{
 "cells": [
  {
   "cell_type": "markdown",
   "metadata": {},
   "source": [
    "# Simple Linear Regression"
   ]
  },
  {
   "cell_type": "markdown",
   "metadata": {},
   "source": [
    "We will use Pandas to work with dataframes and numpy to do the math."
   ]
  },
  {
   "cell_type": "code",
   "execution_count": 1,
   "metadata": {},
   "outputs": [],
   "source": [
    "import pandas as pd\n",
    "import numpy as np"
   ]
  },
  {
   "cell_type": "markdown",
   "metadata": {},
   "source": [
    "For linear regression we'll have a set of samples, each sample consists of a feature x_i and a label y_i. Linear regression will determine the weights  $w_0$ (intercept) and $w_1$ (the slope), to estimate a linear relation between the feature vector ($X$) and the label vector ($Y$). The estimate will be denoted $\\hat Y$.\n",
    "\n",
    "Pointwise:\n",
    "\n",
    "$${\\hat y}_i=x_0+w_1x_i$$\n",
    "\n",
    "And in vector form:\n",
    "$${\\hat Y}=w_0+w_1 \\cdot X$$\n"
   ]
  },
  {
   "cell_type": "code",
   "execution_count": 2,
   "metadata": {},
   "outputs": [],
   "source": [
    "#Compute the prediction of the linear model giventhe wights and the input feature\n",
    "def predictions_linear_reg(X, w_0, w_1):\n",
    "    pred=w_0+w_1*X\n",
    "    return pred"
   ]
  },
  {
   "cell_type": "markdown",
   "metadata": {},
   "source": [
    "We will use the Mean Squared Error as cost measure. The formula is:\n",
    "\n",
    "$$ mse=\\frac{\\sum_i^m(y_i-\\hat{y}_i)^2}{m}$$"
   ]
  },
  {
   "cell_type": "code",
   "execution_count": 3,
   "metadata": {},
   "outputs": [],
   "source": [
    "#Compute MSE\n",
    "def get_mse(X, Y, w_0,w_1):\n",
    "    #X is the feature vector (m,1)\n",
    "    #Y is the labels vector (m,1)\n",
    "    m=X.shape[0]\n",
    "    pred=predictions_linear_reg(X, w_0, w_1)\n",
    "    res=pred-Y\n",
    "    sqrd=res**2\n",
    "    MSE=np.sum(sqrd)/m\n",
    "    return MSE"
   ]
  },
  {
   "cell_type": "markdown",
   "metadata": {},
   "source": [
    "Now we write the linear regression algorithm. Since we are working with one variable, it is not difficult to obtain the exact formula for $w_0$ and $w_1$ that minimizes the MSE (all sums are from $1$ to $m$):\n",
    "\n",
    "$$w_1=\\frac{\\sum x_iy_i - \\frac{\\sum x_i \\sum y_i}{m} }{\\sum x_i^2 - \\frac{(\\sum x_i)^2}{m}}$$\n",
    "\n",
    "$$w_0= \\sum y_i - w_1 \\frac{x_i}{m}$$"
   ]
  },
  {
   "cell_type": "code",
   "execution_count": 4,
   "metadata": {},
   "outputs": [],
   "source": [
    "## simple linear regression with exact formula\n",
    "def linear_regression_simple_exact_formula(X, Y):\n",
    "    m=Y.size\n",
    "    sum_x=np.sum(X)\n",
    "    sum_y=np.sum(Y)\n",
    "    prod=X*Y\n",
    "    sum_prod=np.sum(prod)\n",
    "    sq_x=X*X\n",
    "    sum_sq_x=np.sum(sq_x)\n",
    "    sq_sum_x=sum_x**2\n",
    "    prod_sum_x_y=sum_x*sum_y\n",
    "    w_1=(sum_prod -prod_sum_x_y/m)/(sum_sq_x-sq_sum_x/m)\n",
    "    w_0=(sum_y- w_1*sum_x)/m\n",
    "    return w_0,w_1"
   ]
  },
  {
   "cell_type": "markdown",
   "metadata": {},
   "source": [
    "To test this algorithm we are going to create a sample set."
   ]
  },
  {
   "cell_type": "code",
   "execution_count": 5,
   "metadata": {},
   "outputs": [
    {
     "name": "stdout",
     "output_type": "stream",
     "text": [
      "The feature vector is: \n",
      "[[75.32820326]\n",
      " [86.78542324]\n",
      " [ 6.915271  ]\n",
      " [ 4.69260242]\n",
      " [73.36868774]\n",
      " [73.10051777]\n",
      " [70.75448857]\n",
      " [27.49252878]\n",
      " [11.611132  ]\n",
      " [91.7033386 ]]\n",
      "This is the image of X when we apply a linear function: \n",
      "[[232.98460979]\n",
      " [267.35626972]\n",
      " [ 27.745813  ]\n",
      " [ 21.07780726]\n",
      " [227.10606323]\n",
      " [226.30155331]\n",
      " [219.26346571]\n",
      " [ 89.47758633]\n",
      " [ 41.833396  ]\n",
      " [282.1100158 ]]\n",
      "The label (or output) vector is: \n",
      "[[228.69332955]\n",
      " [268.17423079]\n",
      " [ 27.0457362 ]\n",
      " [ 22.56053908]\n",
      " [229.506819  ]\n",
      " [230.39253229]\n",
      " [217.93742206]\n",
      " [ 89.50944265]\n",
      " [ 46.25265779]\n",
      " [284.290088  ]]\n"
     ]
    }
   ],
   "source": [
    "#First we generate a random list of 10 numbers uniformily distribuited\n",
    "X=np.random.uniform(0,1,[10,1])*100\n",
    "print(\"The feature vector is: \")\n",
    "print(X)\n",
    "#Then we create the Y vector applying a linear function to X\n",
    "Y=3*X+7\n",
    "print(\"This is the image of X when we apply a linear function: \")\n",
    "print(Y)\n",
    "#Finally we add some noise to Y\n",
    "for i in range(len(Y)):\n",
    "    Y[i]+=np.random.uniform(-5,5)\n",
    "print(\"The label (or output) vector is: \")    \n",
    "print(Y)"
   ]
  },
  {
   "cell_type": "markdown",
   "metadata": {},
   "source": [
    "Let's apply our algorithm to this set:"
   ]
  },
  {
   "cell_type": "code",
   "execution_count": 6,
   "metadata": {},
   "outputs": [
    {
     "name": "stdout",
     "output_type": "stream",
     "text": [
      "wa_0: 8.342617038016352\n",
      "wa_1: 2.991720297152594\n"
     ]
    }
   ],
   "source": [
    "wa_0, wa_1 =linear_regression_simple_exact_formula(X, Y)\n",
    "print(\"wa_0: \"+str(wa_0))\n",
    "print(\"wa_1: \"+str(wa_1))"
   ]
  },
  {
   "cell_type": "markdown",
   "metadata": {},
   "source": [
    "Let's calculate the cost."
   ]
  },
  {
   "cell_type": "code",
   "execution_count": 7,
   "metadata": {},
   "outputs": [
    {
     "name": "stdout",
     "output_type": "stream",
     "text": [
      "6.126215307990976\n"
     ]
    }
   ],
   "source": [
    "MSE=get_mse(X,Y,wa_0,wa_1)\n",
    "print(MSE)"
   ]
  },
  {
   "cell_type": "markdown",
   "metadata": {},
   "source": [
    "Now we will plot the sample points and the line obtained by the regression algorithm. We will use matplotlib."
   ]
  },
  {
   "cell_type": "code",
   "execution_count": 8,
   "metadata": {},
   "outputs": [],
   "source": [
    "import matplotlib.pyplot as plt"
   ]
  },
  {
   "cell_type": "code",
   "execution_count": 9,
   "metadata": {},
   "outputs": [
    {
     "data": {
      "image/png": "[encoded data removed]",
      "text/plain": [
       "<Figure size 432x288 with 1 Axes>"
      ]
     },
     "metadata": {},
     "output_type": "display_data"
    }
   ],
   "source": [
    "plt.scatter(X,Y)\n",
    "t = np.arange(0.0, np.max(X), 0.01)\n",
    "plt.plot(t,wa_1*t+wa_0,'-',color='r')\n",
    "\n",
    "plt.show()"
   ]
  },
  {
   "cell_type": "markdown",
   "metadata": {},
   "source": [
    "We procede now to write the gradient descent algorithm. We need to calculate the derivative of the MSE, with respect to the weights $w_0,w_1$:\n",
    "\n",
    "$$\\frac{d}{dw_0}mse=-\\frac{2}{m}\\sum(y_i-\\hat{y}_i)$$\n",
    "\n",
    "$$\\frac{d}{dw_1}mse=-\\frac{2}{m}\\sum x_i(y_i-\\hat{y}_i)$$"
   ]
  },
  {
   "cell_type": "code",
   "execution_count": 10,
   "metadata": {},
   "outputs": [],
   "source": [
    "def derivative(X,Y,w_0,w_1):\n",
    "    m=X.shape[0]\n",
    "    error=Y- predictions_linear_reg(X, w_0,w_1)\n",
    "    dw_0=-2*np.sum(error)/m\n",
    "    dw_1=-2*np.sum(X*error )/m\n",
    "    return dw_0, dw_1"
   ]
  },
  {
   "cell_type": "markdown",
   "metadata": {},
   "source": [
    "Recall that in this case we shall usa an hyperparameter: the learning rate.\n",
    "We update the weights as follows:\n",
    "\n",
    "$$w_j:=w_j- \\eta \\frac{d}{dw_j} mse$$"
   ]
  },
  {
   "cell_type": "code",
   "execution_count": 11,
   "metadata": {},
   "outputs": [],
   "source": [
    "def gradient_descent_(X, Y, learning_rate, tolerance, initial_w_0, initial_w_1,max_iter=5000):\n",
    "    #X is the feature matrix\n",
    "    #Y is the output vector\n",
    "\n",
    "    w_0=initial_w_0\n",
    "    w_1=initial_w_1\n",
    "    converged = False\n",
    "    k=0\n",
    "    #We print the current iteration every 1000 iterations\n",
    "    while k<max_iter and not converged:\n",
    "        if k % 1000 == 0:\n",
    "            print(\"Iteration: \"+str(k))\n",
    "        preds=predictions_linear_reg(X, w_0,w_1)\n",
    "        error=Y-preds\n",
    "        dw_0,dw_1=derivative(X,Y, w_0,w_1)\n",
    "        w_0=w_0- learning_rate*dw_0\n",
    "        w_1=w_1-learning_rate*dw_1\n",
    "        gradient_norm=np.linalg.norm([dw_0,dw_1])\n",
    "        k=k+1\n",
    "        if gradient_norm < tolerance:\n",
    "            converged= True\n",
    "            print(\"Converged on iteration: \"+str(k))\n",
    "   \n",
    "    return w_0,w_1"
   ]
  },
  {
   "cell_type": "markdown",
   "metadata": {},
   "source": [
    "Now we will apply this algorithm to the set we defined above."
   ]
  },
  {
   "cell_type": "code",
   "execution_count": 12,
   "metadata": {},
   "outputs": [],
   "source": [
    "learning_rate=0.0001\n",
    "tolerance=.5\n",
    "initial_weights=[1.,1.]"
   ]
  },
  {
   "cell_type": "code",
   "execution_count": 13,
   "metadata": {},
   "outputs": [
    {
     "name": "stdout",
     "output_type": "stream",
     "text": [
      "Iteration: 0\n",
      "Iteration: 1000\n",
      "Iteration: 2000\n",
      "Iteration: 3000\n",
      "Iteration: 4000\n",
      "Iteration: 5000\n",
      "Iteration: 6000\n",
      "Iteration: 7000\n",
      "Iteration: 8000\n",
      "Iteration: 9000\n",
      "Iteration: 10000\n",
      "Iteration: 11000\n",
      "Iteration: 12000\n",
      "Iteration: 13000\n",
      "Iteration: 14000\n",
      "Iteration: 15000\n",
      "Iteration: 16000\n",
      "Iteration: 17000\n",
      "Iteration: 18000\n",
      "Iteration: 19000\n",
      "Iteration: 20000\n",
      "Iteration: 21000\n",
      "Iteration: 22000\n",
      "Iteration: 23000\n",
      "Iteration: 24000\n",
      "Iteration: 25000\n",
      "Iteration: 26000\n",
      "Iteration: 27000\n",
      "Iteration: 28000\n",
      "Iteration: 29000\n",
      "Iteration: 30000\n",
      "Iteration: 31000\n",
      "Iteration: 32000\n",
      "Iteration: 33000\n",
      "Iteration: 34000\n",
      "Iteration: 35000\n",
      "Iteration: 36000\n",
      "Converged on iteration: 36913\n",
      "wb_0: 7.478750312921612\n",
      "wb_1: 3.0034867127876805\n"
     ]
    }
   ],
   "source": [
    "wb_0,wb_1= gradient_descent_(X, Y, learning_rate, tolerance, initial_weights[0], initial_weights[1],max_iter=50000)\n",
    "print(\"wb_0: \"+str(wb_0))\n",
    "print(\"wb_1: \"+str(wb_1))"
   ]
  },
  {
   "cell_type": "markdown",
   "metadata": {},
   "source": [
    "Let's calculate the MSE with these weights."
   ]
  },
  {
   "cell_type": "code",
   "execution_count": 14,
   "metadata": {},
   "outputs": [
    {
     "name": "stdout",
     "output_type": "stream",
     "text": [
      "6.342180071426175\n"
     ]
    }
   ],
   "source": [
    "MSE=get_mse(X,Y,wb_0,wb_1)\n",
    "print(MSE)"
   ]
  },
  {
   "cell_type": "markdown",
   "metadata": {},
   "source": [
    "And now let's plot the results."
   ]
  },
  {
   "cell_type": "code",
   "execution_count": 15,
   "metadata": {},
   "outputs": [
    {
     "data": {
      "image/png": "[encoded data removed]",
      "text/plain": [
       "<Figure size 432x288 with 1 Axes>"
      ]
     },
     "metadata": {},
     "output_type": "display_data"
    }
   ],
   "source": [
    "plt.scatter(X,Y)\n",
    "t = np.arange(0.0, np.max(X), 0.01)\n",
    "plt.plot(t,wb_1*t+wb_0,'-',color='y')\n",
    "\n",
    "plt.show()"
   ]
  },
  {
   "cell_type": "markdown",
   "metadata": {},
   "source": [
    "Let's plot both lines, the one obtained with the exact formula, and the one obtained with gradient descent."
   ]
  },
  {
   "cell_type": "code",
   "execution_count": 16,
   "metadata": {},
   "outputs": [
    {
     "data": {
      "image/png": "[encoded data removed]",
      "text/plain": [
       "<Figure size 432x288 with 1 Axes>"
      ]
     },
     "metadata": {},
     "output_type": "display_data"
    }
   ],
   "source": [
    "t = np.arange(0.0, np.max(X)/2, 0.01)\n",
    "plt.plot(t,wa_1*t+wa_0,'-',color='r')\n",
    "plt.plot(t,wb_1*t+wb_0,'-',color='y')\n",
    "\n",
    "plt.show()"
   ]
  },
  {
   "cell_type": "markdown",
   "metadata": {},
   "source": [
    "Even if the error is bigger than the one obtained with the exact formula, and the weights are not quite the same, the line seems to aproximate the sample set pretty well.\n",
    "It is important to keep in mind that for the gradient descent algorithm we must chose the learning rate and the initial weights."
   ]
  },
  {
   "cell_type": "markdown",
   "metadata": {},
   "source": [
    "Now we're going to use this algorithms on a \"real\" data set. We will import to our notebook a csv file with data of house prices. We will put this data on a dataframe."
   ]
  },
  {
   "cell_type": "code",
   "execution_count": 17,
   "metadata": {},
   "outputs": [],
   "source": [
    "house_prices=pd.read_csv(\"houseprices.csv\")"
   ]
  },
  {
   "cell_type": "markdown",
   "metadata": {},
   "source": [
    "Let us explore the dataframe."
   ]
  },
  {
   "cell_type": "code",
   "execution_count": 18,
   "metadata": {},
   "outputs": [
    {
     "data": {
      "text/html": [
       "<div>\n",
       "<style scoped>\n",
       "    .dataframe tbody tr th:only-of-type {\n",
       "        vertical-align: middle;\n",
       "    }\n",
       "\n",
       "    .dataframe tbody tr th {\n",
       "        vertical-align: top;\n",
       "    }\n",
       "\n",
       "    .dataframe thead th {\n",
       "        text-align: right;\n",
       "    }\n",
       "</style>\n",
       "<table border=\"1\" class=\"dataframe\">\n",
       "  <thead>\n",
       "    <tr style=\"text-align: right;\">\n",
       "      <th></th>\n",
       "      <th>Unnamed: 0</th>\n",
       "      <th>price</th>\n",
       "      <th>LotSize</th>\n",
       "      <th>Age</th>\n",
       "      <th>LandValue</th>\n",
       "      <th>LivingArea</th>\n",
       "      <th>Bedrooms</th>\n",
       "      <th>Fireplaces</th>\n",
       "      <th>Bathrooms</th>\n",
       "      <th>Rooms</th>\n",
       "      <th>Heating</th>\n",
       "      <th>Fuel</th>\n",
       "      <th>Sewer</th>\n",
       "      <th>Waterfront</th>\n",
       "      <th>NewConstruction</th>\n",
       "    </tr>\n",
       "  </thead>\n",
       "  <tbody>\n",
       "    <tr>\n",
       "      <th>0</th>\n",
       "      <td>1</td>\n",
       "      <td>132500</td>\n",
       "      <td>0.09</td>\n",
       "      <td>42</td>\n",
       "      <td>50000</td>\n",
       "      <td>906</td>\n",
       "      <td>2</td>\n",
       "      <td>1</td>\n",
       "      <td>1.0</td>\n",
       "      <td>5</td>\n",
       "      <td>electric</td>\n",
       "      <td>electric</td>\n",
       "      <td>septic</td>\n",
       "      <td>No</td>\n",
       "      <td>No</td>\n",
       "    </tr>\n",
       "    <tr>\n",
       "      <th>1</th>\n",
       "      <td>2</td>\n",
       "      <td>181115</td>\n",
       "      <td>0.92</td>\n",
       "      <td>0</td>\n",
       "      <td>22300</td>\n",
       "      <td>1953</td>\n",
       "      <td>3</td>\n",
       "      <td>0</td>\n",
       "      <td>2.5</td>\n",
       "      <td>6</td>\n",
       "      <td>hot water/steam</td>\n",
       "      <td>gas</td>\n",
       "      <td>septic</td>\n",
       "      <td>No</td>\n",
       "      <td>No</td>\n",
       "    </tr>\n",
       "    <tr>\n",
       "      <th>2</th>\n",
       "      <td>3</td>\n",
       "      <td>109000</td>\n",
       "      <td>0.19</td>\n",
       "      <td>133</td>\n",
       "      <td>7300</td>\n",
       "      <td>1944</td>\n",
       "      <td>4</td>\n",
       "      <td>1</td>\n",
       "      <td>1.0</td>\n",
       "      <td>8</td>\n",
       "      <td>hot water/steam</td>\n",
       "      <td>gas</td>\n",
       "      <td>public/commercial</td>\n",
       "      <td>No</td>\n",
       "      <td>No</td>\n",
       "    </tr>\n",
       "    <tr>\n",
       "      <th>3</th>\n",
       "      <td>4</td>\n",
       "      <td>155000</td>\n",
       "      <td>0.41</td>\n",
       "      <td>13</td>\n",
       "      <td>18700</td>\n",
       "      <td>1944</td>\n",
       "      <td>3</td>\n",
       "      <td>1</td>\n",
       "      <td>1.5</td>\n",
       "      <td>5</td>\n",
       "      <td>hot air</td>\n",
       "      <td>gas</td>\n",
       "      <td>septic</td>\n",
       "      <td>No</td>\n",
       "      <td>No</td>\n",
       "    </tr>\n",
       "    <tr>\n",
       "      <th>4</th>\n",
       "      <td>5</td>\n",
       "      <td>86060</td>\n",
       "      <td>0.11</td>\n",
       "      <td>0</td>\n",
       "      <td>15000</td>\n",
       "      <td>840</td>\n",
       "      <td>2</td>\n",
       "      <td>0</td>\n",
       "      <td>1.0</td>\n",
       "      <td>3</td>\n",
       "      <td>hot air</td>\n",
       "      <td>gas</td>\n",
       "      <td>public/commercial</td>\n",
       "      <td>No</td>\n",
       "      <td>Yes</td>\n",
       "    </tr>\n",
       "  </tbody>\n",
       "</table>\n",
       "</div>"
      ],
      "text/plain": [
       "   Unnamed: 0   price  LotSize  Age  LandValue  LivingArea  Bedrooms  \\\n",
       "0           1  132500     0.09   42      50000         906         2   \n",
       "1           2  181115     0.92    0      22300        1953         3   \n",
       "2           3  109000     0.19  133       7300        1944         4   \n",
       "3           4  155000     0.41   13      18700        1944         3   \n",
       "4           5   86060     0.11    0      15000         840         2   \n",
       "\n",
       "   Fireplaces  Bathrooms  Rooms          Heating      Fuel              Sewer  \\\n",
       "0           1        1.0      5         electric  electric             septic   \n",
       "1           0        2.5      6  hot water/steam       gas             septic   \n",
       "2           1        1.0      8  hot water/steam       gas  public/commercial   \n",
       "3           1        1.5      5          hot air       gas             septic   \n",
       "4           0        1.0      3          hot air       gas  public/commercial   \n",
       "\n",
       "  Waterfront NewConstruction  \n",
       "0         No              No  \n",
       "1         No              No  \n",
       "2         No              No  \n",
       "3         No              No  \n",
       "4         No             Yes  "
      ]
     },
     "execution_count": 18,
     "metadata": {},
     "output_type": "execute_result"
    }
   ],
   "source": [
    "house_prices.head()"
   ]
  },
  {
   "cell_type": "code",
   "execution_count": 19,
   "metadata": {
    "scrolled": true
   },
   "outputs": [
    {
     "data": {
      "text/html": [
       "<div>\n",
       "<style scoped>\n",
       "    .dataframe tbody tr th:only-of-type {\n",
       "        vertical-align: middle;\n",
       "    }\n",
       "\n",
       "    .dataframe tbody tr th {\n",
       "        vertical-align: top;\n",
       "    }\n",
       "\n",
       "    .dataframe thead th {\n",
       "        text-align: right;\n",
       "    }\n",
       "</style>\n",
       "<table border=\"1\" class=\"dataframe\">\n",
       "  <thead>\n",
       "    <tr style=\"text-align: right;\">\n",
       "      <th></th>\n",
       "      <th>price</th>\n",
       "      <th>LivingArea</th>\n",
       "    </tr>\n",
       "  </thead>\n",
       "  <tbody>\n",
       "    <tr>\n",
       "      <th>0</th>\n",
       "      <td>132500</td>\n",
       "      <td>906</td>\n",
       "    </tr>\n",
       "    <tr>\n",
       "      <th>1</th>\n",
       "      <td>181115</td>\n",
       "      <td>1953</td>\n",
       "    </tr>\n",
       "    <tr>\n",
       "      <th>2</th>\n",
       "      <td>109000</td>\n",
       "      <td>1944</td>\n",
       "    </tr>\n",
       "    <tr>\n",
       "      <th>3</th>\n",
       "      <td>155000</td>\n",
       "      <td>1944</td>\n",
       "    </tr>\n",
       "    <tr>\n",
       "      <th>4</th>\n",
       "      <td>86060</td>\n",
       "      <td>840</td>\n",
       "    </tr>\n",
       "  </tbody>\n",
       "</table>\n",
       "</div>"
      ],
      "text/plain": [
       "    price  LivingArea\n",
       "0  132500         906\n",
       "1  181115        1953\n",
       "2  109000        1944\n",
       "3  155000        1944\n",
       "4   86060         840"
      ]
     },
     "execution_count": 19,
     "metadata": {},
     "output_type": "execute_result"
    }
   ],
   "source": [
    "house_prices[[\"price\",\"LivingArea\"]].head()"
   ]
  },
  {
   "cell_type": "markdown",
   "metadata": {},
   "source": [
    "We need to split our data set on two parts: training set and validation set.We will do it in two new dataframes. We set a seed to the random process in order to make everythin repeatable."
   ]
  },
  {
   "cell_type": "code",
   "execution_count": 20,
   "metadata": {},
   "outputs": [],
   "source": [
    "#split the dataframe into train and test sets\n",
    "def trainset__testset_split(df, train_ratio=.8, seed=0):\n",
    "    np.random.seed(seed)\n",
    "    m = len(df.index)\n",
    "    shuffle = np.random.permutation(df.index)\n",
    "    train_end = int(train_ratio * m)\n",
    "    train = df.loc[shuffle[:train_end]] \n",
    "    test = df.loc[shuffle[train_end:]]\n",
    "    return train, test"
   ]
  },
  {
   "cell_type": "markdown",
   "metadata": {},
   "source": [
    "Let's divide our set."
   ]
  },
  {
   "cell_type": "code",
   "execution_count": 21,
   "metadata": {},
   "outputs": [],
   "source": [
    "train_set, test_set= trainset__testset_split(house_prices, train_ratio=.8, seed=0)"
   ]
  },
  {
   "cell_type": "code",
   "execution_count": 22,
   "metadata": {},
   "outputs": [
    {
     "data": {
      "text/html": [
       "<div>\n",
       "<style scoped>\n",
       "    .dataframe tbody tr th:only-of-type {\n",
       "        vertical-align: middle;\n",
       "    }\n",
       "\n",
       "    .dataframe tbody tr th {\n",
       "        vertical-align: top;\n",
       "    }\n",
       "\n",
       "    .dataframe thead th {\n",
       "        text-align: right;\n",
       "    }\n",
       "</style>\n",
       "<table border=\"1\" class=\"dataframe\">\n",
       "  <thead>\n",
       "    <tr style=\"text-align: right;\">\n",
       "      <th></th>\n",
       "      <th>Unnamed: 0</th>\n",
       "      <th>price</th>\n",
       "      <th>LotSize</th>\n",
       "      <th>Age</th>\n",
       "      <th>LandValue</th>\n",
       "      <th>LivingArea</th>\n",
       "      <th>Bedrooms</th>\n",
       "      <th>Fireplaces</th>\n",
       "      <th>Bathrooms</th>\n",
       "      <th>Rooms</th>\n",
       "      <th>Heating</th>\n",
       "      <th>Fuel</th>\n",
       "      <th>Sewer</th>\n",
       "      <th>Waterfront</th>\n",
       "      <th>NewConstruction</th>\n",
       "    </tr>\n",
       "  </thead>\n",
       "  <tbody>\n",
       "    <tr>\n",
       "      <th>1318</th>\n",
       "      <td>1319</td>\n",
       "      <td>229900</td>\n",
       "      <td>0.44</td>\n",
       "      <td>7</td>\n",
       "      <td>24200</td>\n",
       "      <td>1328</td>\n",
       "      <td>3</td>\n",
       "      <td>1</td>\n",
       "      <td>2.5</td>\n",
       "      <td>8</td>\n",
       "      <td>hot air</td>\n",
       "      <td>gas</td>\n",
       "      <td>public/commercial</td>\n",
       "      <td>No</td>\n",
       "      <td>No</td>\n",
       "    </tr>\n",
       "    <tr>\n",
       "      <th>124</th>\n",
       "      <td>125</td>\n",
       "      <td>158000</td>\n",
       "      <td>0.52</td>\n",
       "      <td>0</td>\n",
       "      <td>4400</td>\n",
       "      <td>2098</td>\n",
       "      <td>3</td>\n",
       "      <td>0</td>\n",
       "      <td>2.0</td>\n",
       "      <td>7</td>\n",
       "      <td>hot air</td>\n",
       "      <td>gas</td>\n",
       "      <td>septic</td>\n",
       "      <td>No</td>\n",
       "      <td>Yes</td>\n",
       "    </tr>\n",
       "    <tr>\n",
       "      <th>648</th>\n",
       "      <td>649</td>\n",
       "      <td>367500</td>\n",
       "      <td>0.27</td>\n",
       "      <td>2</td>\n",
       "      <td>78200</td>\n",
       "      <td>2205</td>\n",
       "      <td>3</td>\n",
       "      <td>1</td>\n",
       "      <td>2.5</td>\n",
       "      <td>10</td>\n",
       "      <td>hot air</td>\n",
       "      <td>gas</td>\n",
       "      <td>public/commercial</td>\n",
       "      <td>No</td>\n",
       "      <td>No</td>\n",
       "    </tr>\n",
       "    <tr>\n",
       "      <th>249</th>\n",
       "      <td>250</td>\n",
       "      <td>128850</td>\n",
       "      <td>0.92</td>\n",
       "      <td>16</td>\n",
       "      <td>5500</td>\n",
       "      <td>824</td>\n",
       "      <td>3</td>\n",
       "      <td>0</td>\n",
       "      <td>1.5</td>\n",
       "      <td>5</td>\n",
       "      <td>electric</td>\n",
       "      <td>electric</td>\n",
       "      <td>septic</td>\n",
       "      <td>No</td>\n",
       "      <td>No</td>\n",
       "    </tr>\n",
       "    <tr>\n",
       "      <th>1599</th>\n",
       "      <td>1600</td>\n",
       "      <td>290000</td>\n",
       "      <td>0.61</td>\n",
       "      <td>34</td>\n",
       "      <td>32300</td>\n",
       "      <td>2728</td>\n",
       "      <td>4</td>\n",
       "      <td>1</td>\n",
       "      <td>2.5</td>\n",
       "      <td>10</td>\n",
       "      <td>hot water/steam</td>\n",
       "      <td>gas</td>\n",
       "      <td>public/commercial</td>\n",
       "      <td>No</td>\n",
       "      <td>No</td>\n",
       "    </tr>\n",
       "  </tbody>\n",
       "</table>\n",
       "</div>"
      ],
      "text/plain": [
       "      Unnamed: 0   price  LotSize  Age  LandValue  LivingArea  Bedrooms  \\\n",
       "1318        1319  229900     0.44    7      24200        1328         3   \n",
       "124          125  158000     0.52    0       4400        2098         3   \n",
       "648          649  367500     0.27    2      78200        2205         3   \n",
       "249          250  128850     0.92   16       5500         824         3   \n",
       "1599        1600  290000     0.61   34      32300        2728         4   \n",
       "\n",
       "      Fireplaces  Bathrooms  Rooms          Heating      Fuel  \\\n",
       "1318           1        2.5      8          hot air       gas   \n",
       "124            0        2.0      7          hot air       gas   \n",
       "648            1        2.5     10          hot air       gas   \n",
       "249            0        1.5      5         electric  electric   \n",
       "1599           1        2.5     10  hot water/steam       gas   \n",
       "\n",
       "                  Sewer Waterfront NewConstruction  \n",
       "1318  public/commercial         No              No  \n",
       "124              septic         No             Yes  \n",
       "648   public/commercial         No              No  \n",
       "249              septic         No              No  \n",
       "1599  public/commercial         No              No  "
      ]
     },
     "execution_count": 22,
     "metadata": {},
     "output_type": "execute_result"
    }
   ],
   "source": [
    "train_set.head()"
   ]
  },
  {
   "cell_type": "markdown",
   "metadata": {},
   "source": [
    "Note that the indexes are shuffled (that is what we did to create the random partition). So in order to locate the ith row of the train set we need to use the index vector."
   ]
  },
  {
   "cell_type": "code",
   "execution_count": 23,
   "metadata": {},
   "outputs": [
    {
     "name": "stdout",
     "output_type": "stream",
     "text": [
      "The index corresponding to the fourth row is: 249\n",
      "The fourth trow is: Unnamed: 0                      1319\n",
      "price                         229900\n",
      "LotSize                         0.44\n",
      "Age                                7\n",
      "LandValue                      24200\n",
      "LivingArea                      1328\n",
      "Bedrooms                           3\n",
      "Fireplaces                         1\n",
      "Bathrooms                        2.5\n",
      "Rooms                              8\n",
      "Heating                      hot air\n",
      "Fuel                             gas\n",
      "Sewer              public/commercial\n",
      "Waterfront                        No\n",
      "NewConstruction                   No\n",
      "Name: 1318, dtype: object\n"
     ]
    }
   ],
   "source": [
    "print(\"The index corresponding to the fourth row is: \" +str(train_set.index[3]) )\n",
    "print(\"The fourth trow is: \"+ str(train_set.loc[train_set.index[0]]) ) "
   ]
  },
  {
   "cell_type": "markdown",
   "metadata": {},
   "source": [
    "We will use \"LivingArea\" as feature and \"price\" as target label."
   ]
  },
  {
   "cell_type": "code",
   "execution_count": 24,
   "metadata": {},
   "outputs": [],
   "source": [
    "X_train=train_set['LivingArea']\n",
    "Y_train=train_set['price']"
   ]
  },
  {
   "cell_type": "markdown",
   "metadata": {},
   "source": [
    "Let us apply the exact formula to the train set."
   ]
  },
  {
   "cell_type": "code",
   "execution_count": 25,
   "metadata": {},
   "outputs": [
    {
     "name": "stdout",
     "output_type": "stream",
     "text": [
      "w_0 = 17523.86959748328\n",
      "w_1 = 110.38001482197082\n"
     ]
    }
   ],
   "source": [
    "w_0,w_1=linear_regression_simple_exact_formula(X_train,Y_train)\n",
    "print(\"w_0 = \"+str(w_0))\n",
    "print(\"w_1 = \"+str(w_1))"
   ]
  },
  {
   "cell_type": "markdown",
   "metadata": {},
   "source": [
    "We calculate the MSE for the training set, and we plot our model."
   ]
  },
  {
   "cell_type": "code",
   "execution_count": 26,
   "metadata": {},
   "outputs": [
    {
     "name": "stdout",
     "output_type": "stream",
     "text": [
      "4.424164078959671e+09\n"
     ]
    }
   ],
   "source": [
    "MSE_train=get_mse(X_train,Y_train,w_0,w_1)\n",
    "print(np.format_float_scientific(MSE_train) )"
   ]
  },
  {
   "cell_type": "code",
   "execution_count": 27,
   "metadata": {},
   "outputs": [
    {
     "data": {
      "image/png": "[encoded data removed]",
      "text/plain": [
       "<Figure size 432x288 with 1 Axes>"
      ]
     },
     "metadata": {},
     "output_type": "display_data"
    }
   ],
   "source": [
    "train_set.plot(kind=\"scatter\", x=\"LivingArea\",y=\"price\")\n",
    "t = np.arange(0.0, 6000.0, 0.01)\n",
    "plt.plot(t,w_1*t+w_0,'-',color='r')\n",
    "plt.show()"
   ]
  },
  {
   "cell_type": "markdown",
   "metadata": {},
   "source": [
    "Now to evaluate our model we must see how it does on the test set."
   ]
  },
  {
   "cell_type": "code",
   "execution_count": 28,
   "metadata": {},
   "outputs": [
    {
     "name": "stdout",
     "output_type": "stream",
     "text": [
      "6.167989305618645e+09\n"
     ]
    }
   ],
   "source": [
    "X_test=test_set[\"LivingArea\"]\n",
    "Y_test=test_set[\"price\"]\n",
    "MSE_test=get_mse(X_test,Y_test,w_0,w_1)\n",
    "print(np.format_float_scientific(MSE_test))"
   ]
  },
  {
   "cell_type": "code",
   "execution_count": 29,
   "metadata": {},
   "outputs": [
    {
     "name": "stdout",
     "output_type": "stream",
     "text": [
      "1.7438252266589737e+09\n"
     ]
    }
   ],
   "source": [
    "print(np.format_float_scientific(MSE_test-MSE_train))"
   ]
  },
  {
   "cell_type": "markdown",
   "metadata": {},
   "source": [
    "Let us apply gradient descent. First we must set the hyperparameters: the initial weights, the tolerance and the learning rate."
   ]
  },
  {
   "cell_type": "code",
   "execution_count": 30,
   "metadata": {},
   "outputs": [],
   "source": [
    "initial_weights = np.array([15000., 10.])\n",
    "learning_rate = 1e-10\n",
    "tolerance = 1e3"
   ]
  },
  {
   "cell_type": "code",
   "execution_count": 31,
   "metadata": {},
   "outputs": [
    {
     "name": "stdout",
     "output_type": "stream",
     "text": [
      "Iteration: 0\n",
      "Iteration: 1000\n",
      "Iteration: 2000\n",
      "Iteration: 3000\n",
      "Iteration: 4000\n",
      "Iteration: 5000\n",
      "Iteration: 6000\n",
      "Iteration: 7000\n",
      "Iteration: 8000\n",
      "Iteration: 9000\n",
      "Iteration: 10000\n",
      "Iteration: 11000\n",
      "Iteration: 12000\n",
      "Iteration: 13000\n",
      "Iteration: 14000\n",
      "Iteration: 15000\n",
      "Iteration: 16000\n",
      "Iteration: 17000\n",
      "Iteration: 18000\n",
      "Iteration: 19000\n",
      "Converged on iteration: 19720\n",
      "w_0 = 15000.052684721915\n",
      "w_1 = 111.66088687684002\n"
     ]
    }
   ],
   "source": [
    "w_gd_0,w_gd_1=gradient_descent_(X_train,Y_train, learning_rate, tolerance, initial_weights[0], initial_weights[1],max_iter=200000)\n",
    "print(\"w_0 = \"+str(w_gd_0))\n",
    "print(\"w_1 = \"+str(w_gd_1))"
   ]
  },
  {
   "cell_type": "markdown",
   "metadata": {},
   "source": [
    "Let's calculate the cost for these weights and the difference with the ones we obtained with the exact formula."
   ]
  },
  {
   "cell_type": "code",
   "execution_count": 32,
   "metadata": {},
   "outputs": [
    {
     "name": "stdout",
     "output_type": "stream",
     "text": [
      "4.424858739373583e+09\n"
     ]
    }
   ],
   "source": [
    "MSE_train_gradient_desc=get_mse(X_train,Y_train,w_gd_0,w_gd_1)\n",
    "print(np.format_float_scientific(MSE_train_gradient_desc))"
   ]
  },
  {
   "cell_type": "code",
   "execution_count": 33,
   "metadata": {},
   "outputs": [
    {
     "name": "stdout",
     "output_type": "stream",
     "text": [
      "6.946604139118195e+05\n"
     ]
    }
   ],
   "source": [
    "print(np.format_float_scientific(MSE_train_gradient_desc-MSE_train))"
   ]
  },
  {
   "cell_type": "markdown",
   "metadata": {},
   "source": [
    "Next we calculate the predictions of a data sample, to see how the algorithms do in a particular case:"
   ]
  },
  {
   "cell_type": "code",
   "execution_count": 34,
   "metadata": {},
   "outputs": [
    {
     "name": "stdout",
     "output_type": "stream",
     "text": [
      "Prediction with the exact formula: 336963.6324922668\n",
      "Prediction with gradient descent: 338146.65930629696\n",
      "Actual value: 325000\n"
     ]
    }
   ],
   "source": [
    "print(\"Prediction with the exact formula: \"+str(predictions_linear_reg(X_train[10], w_0, w_1)))\n",
    "print(\"Prediction with gradient descent: \"+str(predictions_linear_reg(X_train[10],w_gd_0,w_gd_1)))\n",
    "print(\"Actual value: \"+str(Y_train[10]))"
   ]
  },
  {
   "cell_type": "markdown",
   "metadata": {},
   "source": [
    "Now we plot the line obtained with gradient descent."
   ]
  },
  {
   "cell_type": "code",
   "execution_count": 35,
   "metadata": {},
   "outputs": [
    {
     "data": {
      "image/png": "[encoded data removed]",
      "text/plain": [
       "<Figure size 432x288 with 1 Axes>"
      ]
     },
     "metadata": {},
     "output_type": "display_data"
    }
   ],
   "source": [
    "train_set.plot(kind=\"scatter\", x=\"LivingArea\",y=\"price\")\n",
    "t = np.arange(0.0, 6000.0, 0.01)\n",
    "plt.plot(t,w_1*t+w_0,'-',color='r')\n",
    "plt.plot(t,w_gd_1*t+w_gd_0,'-',color='y')\n",
    "plt.show()"
   ]
  },
  {
   "cell_type": "markdown",
   "metadata": {},
   "source": [
    "Let's evaluate on the test set."
   ]
  },
  {
   "cell_type": "code",
   "execution_count": 36,
   "metadata": {},
   "outputs": [
    {
     "name": "stdout",
     "output_type": "stream",
     "text": [
      "6.157272972030508e+09\n"
     ]
    }
   ],
   "source": [
    "#MSE of the test set for the Gradient Descent model\n",
    "MSE_test_gradient_desdent=get_mse(X_test,Y_test,w_gd_0,w_gd_1)\n",
    "print(np.format_float_scientific(MSE_test_gradient_desdent))"
   ]
  },
  {
   "cell_type": "code",
   "execution_count": 37,
   "metadata": {},
   "outputs": [
    {
     "name": "stdout",
     "output_type": "stream",
     "text": [
      "-1.0716333588136673e+07\n"
     ]
    }
   ],
   "source": [
    "#Difference bewtween the exact formula MSE and the gradient descent MSE for the test set\n",
    "print(np.format_float_scientific(MSE_test_gradient_desdent-MSE_test))"
   ]
  },
  {
   "cell_type": "code",
   "execution_count": 38,
   "metadata": {},
   "outputs": [
    {
     "data": {
      "image/png": "[encoded data removed]",
      "text/plain": [
       "<Figure size 432x288 with 1 Axes>"
      ]
     },
     "metadata": {},
     "output_type": "display_data"
    }
   ],
   "source": [
    "#Plot of the lines and the test set\n",
    "test_set.plot(kind=\"scatter\", x=\"LivingArea\",y=\"price\")\n",
    "t = np.arange(0.0, 6000.0, 0.01)\n",
    "plt.plot(t,w_1*t+w_0,'-',color='r')\n",
    "plt.plot(t,w_gd_1*t+w_gd_0,'-',color='y')\n",
    "plt.show()"
   ]
  },
  {
   "cell_type": "code",
   "execution_count": 39,
   "metadata": {},
   "outputs": [
    {
     "data": {
      "image/png": "[encoded data removed]",
      "text/plain": [
       "<Figure size 432x288 with 1 Axes>"
      ]
     },
     "metadata": {},
     "output_type": "display_data"
    }
   ],
   "source": [
    "#Plot of both models\n",
    "t = np.arange(0.0, 1000.0, 0.01)\n",
    "plt.plot(t,w_1*t+w_0,'-',color='r')\n",
    "plt.plot(t,w_gd_1*t+w_gd_0,'-',color='y')\n",
    "plt.show()"
   ]
  },
  {
   "cell_type": "markdown",
   "metadata": {},
   "source": [
    "Of course we can chose a different feature (as long as it is \"numeric\") and apply our algorithms. Let's do it with \"Bedrooms\"."
   ]
  },
  {
   "cell_type": "code",
   "execution_count": 40,
   "metadata": {},
   "outputs": [],
   "source": [
    "X_train2=train_set['Bedrooms']\n",
    "#Y is the same."
   ]
  },
  {
   "cell_type": "code",
   "execution_count": 41,
   "metadata": {},
   "outputs": [
    {
     "name": "stdout",
     "output_type": "stream",
     "text": [
      "w_0 = 67935.88943380417\n",
      "w_1 = 45383.48861454356\n"
     ]
    }
   ],
   "source": [
    "#with the exact formula:\n",
    "w_0,w_1=linear_regression_simple_exact_formula(X_train2,Y_train)\n",
    "print(\"w_0 = \"+str(w_0))\n",
    "print(\"w_1 = \"+str(w_1))"
   ]
  },
  {
   "cell_type": "code",
   "execution_count": 42,
   "metadata": {},
   "outputs": [
    {
     "name": "stdout",
     "output_type": "stream",
     "text": [
      "7.591225147768781e+09\n"
     ]
    }
   ],
   "source": [
    "MSE_train=get_mse(X_train2,Y_train,w_0,w_1)\n",
    "print(np.format_float_scientific(MSE_train) )"
   ]
  },
  {
   "cell_type": "code",
   "execution_count": 43,
   "metadata": {},
   "outputs": [
    {
     "data": {
      "image/png": "[encoded data removed]",
      "text/plain": [
       "<Figure size 432x288 with 1 Axes>"
      ]
     },
     "metadata": {},
     "output_type": "display_data"
    }
   ],
   "source": [
    "train_set.plot(kind=\"scatter\", x=\"Bedrooms\",y=\"price\")\n",
    "t = np.arange(0.0, 8.0, 0.01)\n",
    "plt.plot(t,w_1*t+w_0,'-',color='r')\n",
    "\n",
    "plt.show()"
   ]
  },
  {
   "cell_type": "markdown",
   "metadata": {},
   "source": [
    "This does not look right, it could be that \"Bedrooms\" is not a good feature to predict the price. Anyway, let's se what happens on the test set."
   ]
  },
  {
   "cell_type": "code",
   "execution_count": 44,
   "metadata": {},
   "outputs": [
    {
     "name": "stdout",
     "output_type": "stream",
     "text": [
      "1.032642167777961e+10\n"
     ]
    }
   ],
   "source": [
    "X_test2=test_set[\"Bedrooms\"]\n",
    "MSE_test=get_mse(X_test2,Y_test,w_0,w_1)\n",
    "print(np.format_float_scientific(MSE_test))"
   ]
  },
  {
   "cell_type": "code",
   "execution_count": 45,
   "metadata": {},
   "outputs": [
    {
     "name": "stdout",
     "output_type": "stream",
     "text": [
      "2.735196530010829e+09\n"
     ]
    }
   ],
   "source": [
    "print(np.format_float_scientific(MSE_test-MSE_train))"
   ]
  },
  {
   "cell_type": "markdown",
   "metadata": {},
   "source": [
    "Now let's apply gradient descent."
   ]
  },
  {
   "cell_type": "code",
   "execution_count": 46,
   "metadata": {},
   "outputs": [],
   "source": [
    "initial_weights = np.array([20000., 10000.])\n",
    "learning_rate = 1e-4\n",
    "tolerance = 5e3"
   ]
  },
  {
   "cell_type": "code",
   "execution_count": 47,
   "metadata": {},
   "outputs": [
    {
     "name": "stdout",
     "output_type": "stream",
     "text": [
      "Iteration: 0\n",
      "Iteration: 1000\n",
      "Iteration: 2000\n",
      "Converged on iteration: 2575\n",
      "w_0 = 34585.14641332293\n",
      "w_1 = 55187.145969574485\n"
     ]
    }
   ],
   "source": [
    "w_gd_0,w_gd_1=gradient_descent_(X_train2,Y_train, learning_rate, tolerance, initial_weights[0], initial_weights[1],max_iter=200000)\n",
    "print(\"w_0 = \"+str(w_gd_0))\n",
    "print(\"w_1 = \"+str(w_gd_1))"
   ]
  },
  {
   "cell_type": "markdown",
   "metadata": {},
   "source": [
    "Let's calculate the cost and plot the line."
   ]
  },
  {
   "cell_type": "code",
   "execution_count": 48,
   "metadata": {},
   "outputs": [
    {
     "name": "stdout",
     "output_type": "stream",
     "text": [
      "7.663564259591805e+09\n"
     ]
    }
   ],
   "source": [
    "MSE_train_gd=get_mse(X_train2,Y_train,w_gd_0,w_gd_1)\n",
    "print(np.format_float_scientific(MSE_train_gd) )"
   ]
  },
  {
   "cell_type": "code",
   "execution_count": 49,
   "metadata": {},
   "outputs": [
    {
     "data": {
      "image/png": "[encoded data removed]",
      "text/plain": [
       "<Figure size 432x288 with 1 Axes>"
      ]
     },
     "metadata": {},
     "output_type": "display_data"
    }
   ],
   "source": [
    "train_set.plot(kind=\"scatter\", x=\"Bedrooms\",y=\"price\")\n",
    "t = np.arange(0.0, 8.0, 0.01)\n",
    "plt.plot(t,w_gd_1*t+w_gd_0,'-',color='y')\n",
    "\n",
    "plt.show()"
   ]
  },
  {
   "cell_type": "markdown",
   "metadata": {},
   "source": [
    "This is the cost for the test set:"
   ]
  },
  {
   "cell_type": "code",
   "execution_count": 50,
   "metadata": {},
   "outputs": [
    {
     "name": "stdout",
     "output_type": "stream",
     "text": [
      "1.0223051376066265e+10\n"
     ]
    }
   ],
   "source": [
    "MSE_test_gd=get_mse(X_test2,Y_test,w_gd_0,w_gd_1)\n",
    "print(np.format_float_scientific(MSE_test_gd))"
   ]
  },
  {
   "cell_type": "markdown",
   "metadata": {},
   "source": [
    "Now we plot the two models and the whole data set."
   ]
  },
  {
   "cell_type": "code",
   "execution_count": 51,
   "metadata": {},
   "outputs": [
    {
     "data": {
      "image/png": "[encoded data removed]",
      "text/plain": [
       "<Figure size 432x288 with 1 Axes>"
      ]
     },
     "metadata": {},
     "output_type": "display_data"
    }
   ],
   "source": [
    "house_prices.plot(kind=\"scatter\", x=\"Bedrooms\",y=\"price\")\n",
    "t = np.arange(0.0, 8.0, 0.01)\n",
    "plt.plot(t,w_1*t+w_0,'-',color='r')\n",
    "plt.plot(t,w_gd_1*t+w_gd_0,'-',color='y')\n",
    "\n",
    "plt.show()"
   ]
  },
  {
   "cell_type": "code",
   "execution_count": null,
   "metadata": {},
   "outputs": [],
   "source": []
  }
 ],
 "metadata": {
  "kernelspec": {
   "display_name": "Python 3",
   "language": "python",
   "name": "python3"
  },
  "language_info": {
   "codemirror_mode": {
    "name": "ipython",
    "version": 3
   },
   "file_extension": ".py",
   "mimetype": "text/x-python",
   "name": "python",
   "nbconvert_exporter": "python",
   "pygments_lexer": "ipython3",
   "version": "3.6.5"
  }
 },
 "nbformat": 4,
 "nbformat_minor": 2
}
