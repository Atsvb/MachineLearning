{
 "cells": [
  {
   "cell_type": "code",
   "execution_count": 1,
   "metadata": {},
   "outputs": [],
   "source": [
    "import numpy as np\n",
    "import pandas as pd\n",
    "import os\n",
    "\n",
    "from itertools import product\n",
    "from sklearn.mixture import GaussianMixture\n",
    "\n",
    "import sys\n",
    "\n",
    "from sklearn.model_selection import train_test_split\n",
    "from sklearn import metrics\n",
    "from sklearn.ensemble import RandomForestClassifier\n",
    "from sklearn.model_selection import RandomizedSearchCV\n",
    "from xgboost import XGBClassifier\n",
    "from sklearn.linear_model import LogisticRegression\n",
    "from sklearn.model_selection import StratifiedKFold\n",
    "from sklearn.ensemble import ExtraTreesClassifier\n",
    "from sklearn.ensemble import AdaBoostClassifier\n",
    "from sklearn.tree import DecisionTreeClassifier\n",
    "import lightgbm as lgb\n",
    "from catboost import CatBoostClassifier\n",
    "\n",
    "from mlxtend.classifier import StackingCVClassifier\n",
    "    "
   ]
  },
  {
   "cell_type": "code",
   "execution_count": 2,
   "metadata": {},
   "outputs": [],
   "source": [
    "X    = pd.read_csv('./X.csv')\n",
    "Y    = pd.read_csv('./Y.csv')"
   ]
  },
  {
   "cell_type": "code",
   "execution_count": 3,
   "metadata": {},
   "outputs": [
    {
     "data": {
      "text/plain": [
       "(581012, 42)"
      ]
     },
     "execution_count": 3,
     "metadata": {},
     "output_type": "execute_result"
    }
   ],
   "source": [
    "X.shape"
   ]
  },
  {
   "cell_type": "code",
   "execution_count": 4,
   "metadata": {},
   "outputs": [
    {
     "data": {
      "text/plain": [
       "(581012, 1)"
      ]
     },
     "execution_count": 4,
     "metadata": {},
     "output_type": "execute_result"
    }
   ],
   "source": [
    "Y.shape"
   ]
  },
  {
   "cell_type": "code",
   "execution_count": 5,
   "metadata": {},
   "outputs": [],
   "source": [
    "X_train, X_test, Y_train, Y_test = train_test_split(X, \n",
    "                                                      Y, \n",
    "                                                      test_size = 0.20,\n",
    "                                                      random_state=42)"
   ]
  },
  {
   "cell_type": "markdown",
   "metadata": {},
   "source": [
    "# First Level Moldes"
   ]
  },
  {
   "cell_type": "code",
   "execution_count": 6,
   "metadata": {},
   "outputs": [],
   "source": [
    "rf = RandomForestClassifier(n_estimators=600, \n",
    "                            criterion='gini',\n",
    "                            max_depth=133,\n",
    "                            max_features='auto',\n",
    "                            random_state=42)\n",
    "\n",
    "xgb = XGBClassifier(learning_rate=0.1, n_estimators=450, max_depth=25,\n",
    "                        min_child_weight=3, gamma=0.05, subsample=0.6, colsample_bytree=1.0,\n",
    "                        objective='multiclass:softmax', nthread=4, scale_pos_weight=1, seed=42)\n",
    "\n",
    "xtc=ExtraTreesClassifier(\n",
    "           max_depth=350, \n",
    "           n_estimators=450, n_jobs=-1,\n",
    "           oob_score=False, random_state=42, \n",
    "           warm_start=True)\n",
    "\n",
    "ada=AdaBoostClassifier(base_estimator=DecisionTreeClassifier(max_depth  = 20,\n",
    "                                                                        min_samples_split = 2,\n",
    "                                                                        min_samples_leaf = 1,\n",
    "                                                                        random_state=42),\n",
    "                                                                        n_estimators=100,\n",
    "                                                                        random_state=42)\n",
    "\n",
    "lgb_model=lgb.LGBMClassifier(n_estimators=375,\n",
    "                        num_leaves=100,\n",
    "                        verbosity=0,\n",
    "                        random_state=42,\n",
    "                        n_jobs=-1)\n",
    "\n",
    "cat= CatBoostClassifier(n_estimators =6000, \n",
    "                        #loss_function='Logloss',\n",
    "                        eval_metric='Accuracy',\n",
    "                        metric_period=1000,\n",
    "                        max_depth = None, \n",
    "                        random_state=42)\n"
   ]
  },
  {
   "cell_type": "markdown",
   "metadata": {},
   "source": [
    "# Second Level Model"
   ]
  },
  {
   "cell_type": "code",
   "execution_count": 7,
   "metadata": {},
   "outputs": [],
   "source": [
    "ensemble = [('rf', rf),\n",
    "            ('xgb', xgb),\n",
    "            ('ada', ada),\n",
    "           ('lgbm', lgb_model),\n",
    "           ('xtc', xtc),\n",
    "           ('cat', cat)]"
   ]
  },
  {
   "cell_type": "code",
   "execution_count": 9,
   "metadata": {},
   "outputs": [],
   "source": [
    "#with rf\n",
    "stack = StackingCVClassifier(classifiers=[clf for label, clf in ensemble],\n",
    "                             meta_classifier=rf,\n",
    "                             cv=3,\n",
    "                             use_probas=True,\n",
    "                             use_features_in_secondary=False,\n",
    "                             verbose=1,\n",
    "                             random_state=42,\n",
    "                             n_jobs=-1)"
   ]
  },
  {
   "cell_type": "code",
   "execution_count": 11,
   "metadata": {},
   "outputs": [
    {
     "name": "stdout",
     "output_type": "stream",
     "text": [
      "Fitting 6 classifiers...\n",
      "Fitting classifier1: randomforestclassifier (1/6)\n"
     ]
    },
    {
     "name": "stderr",
     "output_type": "stream",
     "text": [
      "C:\\Users\\atsub\\Anaconda3\\envs\\tensorflow\\lib\\site-packages\\sklearn\\utils\\validation.py:761: DataConversionWarning: A column-vector y was passed when a 1d array was expected. Please change the shape of y to (n_samples, ), for example using ravel().\n",
      "  y = column_or_1d(y, warn=True)\n",
      "[Parallel(n_jobs=-1)]: Using backend LokyBackend with 8 concurrent workers.\n",
      "[Parallel(n_jobs=-1)]: Done   3 out of   3 | elapsed: 23.3min finished\n",
      "[Parallel(n_jobs=-1)]: Using backend LokyBackend with 8 concurrent workers.\n"
     ]
    },
    {
     "name": "stdout",
     "output_type": "stream",
     "text": [
      "Fitting classifier2: xgbclassifier (2/6)\n"
     ]
    },
    {
     "name": "stderr",
     "output_type": "stream",
     "text": [
      "[Parallel(n_jobs=-1)]: Done   3 out of   3 | elapsed: 149.6min finished\n",
      "[Parallel(n_jobs=-1)]: Using backend LokyBackend with 8 concurrent workers.\n"
     ]
    },
    {
     "name": "stdout",
     "output_type": "stream",
     "text": [
      "Fitting classifier3: adaboostclassifier (3/6)\n"
     ]
    },
    {
     "name": "stderr",
     "output_type": "stream",
     "text": [
      "[Parallel(n_jobs=-1)]: Done   3 out of   3 | elapsed: 34.4min finished\n",
      "[Parallel(n_jobs=-1)]: Using backend LokyBackend with 8 concurrent workers.\n"
     ]
    },
    {
     "name": "stdout",
     "output_type": "stream",
     "text": [
      "Fitting classifier4: lgbmclassifier (4/6)\n"
     ]
    },
    {
     "name": "stderr",
     "output_type": "stream",
     "text": [
      "[Parallel(n_jobs=-1)]: Done   3 out of   3 | elapsed:  4.6min finished\n",
      "[Parallel(n_jobs=-1)]: Using backend LokyBackend with 8 concurrent workers.\n"
     ]
    },
    {
     "name": "stdout",
     "output_type": "stream",
     "text": [
      "Fitting classifier5: extratreesclassifier (5/6)\n"
     ]
    },
    {
     "name": "stderr",
     "output_type": "stream",
     "text": [
      "[Parallel(n_jobs=-1)]: Done   3 out of   3 | elapsed:  5.3min finished\n",
      "[Parallel(n_jobs=-1)]: Using backend LokyBackend with 8 concurrent workers.\n"
     ]
    },
    {
     "name": "stdout",
     "output_type": "stream",
     "text": [
      "Fitting classifier6: catboostclassifier (6/6)\n"
     ]
    },
    {
     "name": "stderr",
     "output_type": "stream",
     "text": [
      "[Parallel(n_jobs=-1)]: Done   3 out of   3 | elapsed: 60.5min finished\n"
     ]
    },
    {
     "name": "stdout",
     "output_type": "stream",
     "text": [
      "0:\tlearn: 0.6812390\ttotal: 563ms\tremaining: 56m 17s\n",
      "1000:\tlearn: 0.8460938\ttotal: 5m\tremaining: 25m 1s\n",
      "2000:\tlearn: 0.8836425\ttotal: 9m 57s\tremaining: 19m 54s\n",
      "3000:\tlearn: 0.9056752\ttotal: 14m 59s\tremaining: 14m 58s\n",
      "4000:\tlearn: 0.9201091\ttotal: 20m 1s\tremaining: 10m\n",
      "5000:\tlearn: 0.9301885\ttotal: 25m 5s\tremaining: 5m\n",
      "5999:\tlearn: 0.9378885\ttotal: 30m 12s\tremaining: 0us\n"
     ]
    }
   ],
   "source": [
    "stack = stack.fit(X_train, Y_train.values)"
   ]
  },
  {
   "cell_type": "code",
   "execution_count": 12,
   "metadata": {},
   "outputs": [],
   "source": [
    "prediction_test = stack.predict(X_test.values)"
   ]
  },
  {
   "cell_type": "code",
   "execution_count": 13,
   "metadata": {},
   "outputs": [
    {
     "name": "stdout",
     "output_type": "stream",
     "text": [
      "Test accuracy: 0.9789936576508351\n"
     ]
    }
   ],
   "source": [
    "print(\"Test accuracy:\",metrics.accuracy_score(Y_test, prediction_test))"
   ]
  },
  {
   "cell_type": "code",
   "execution_count": null,
   "metadata": {},
   "outputs": [],
   "source": []
  }
 ],
 "metadata": {
  "kernelspec": {
   "display_name": "Python 3",
   "language": "python",
   "name": "python3"
  },
  "language_info": {
   "codemirror_mode": {
    "name": "ipython",
    "version": 3
   },
   "file_extension": ".py",
   "mimetype": "text/x-python",
   "name": "python",
   "nbconvert_exporter": "python",
   "pygments_lexer": "ipython3",
   "version": "3.6.5"
  }
 },
 "nbformat": 4,
 "nbformat_minor": 2
}
